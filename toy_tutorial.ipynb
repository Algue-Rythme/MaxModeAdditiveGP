{
 "cells": [
  {
   "cell_type": "code",
   "execution_count": 2,
   "metadata": {},
   "outputs": [],
   "source": [
    "import jax\n",
    "import jax.numpy as jnp"
   ]
  },
  {
   "cell_type": "markdown",
   "metadata": {},
   "source": [
    "### Force CPU usage\n",
    "\n",
    "Making the algorithm work on GPU is left for future work."
   ]
  },
  {
   "cell_type": "code",
   "execution_count": 3,
   "metadata": {},
   "outputs": [
    {
     "name": "stdout",
     "output_type": "stream",
     "text": [
      "env: CUDA_VISIBLE_DEVICES=\"\"\n"
     ]
    }
   ],
   "source": [
    "%env CUDA_VISIBLE_DEVICES=\"\""
   ]
  },
  {
   "cell_type": "markdown",
   "metadata": {},
   "source": [
    "Jax runs in `float32` by default, which is not enough precision for our purposes. We force it to `float64` instead."
   ]
  },
  {
   "cell_type": "code",
   "execution_count": 4,
   "metadata": {},
   "outputs": [],
   "source": [
    "jax.config.update(\"jax_enable_x64\", True)"
   ]
  },
  {
   "cell_type": "code",
   "execution_count": 5,
   "metadata": {},
   "outputs": [],
   "source": [
    "from variables import VariableBlock, Variable1D, VariablePartition\n",
    "from function_basis import HatFunctions\n",
    "from kernels import MultivariateKernel, GaussianKernel\n",
    "from constraints import GPConstraints, NoConstraints, GaussianProcess\n",
    "from additive_gp import MaxModeAdditiveGaussianProcess"
   ]
  },
  {
   "cell_type": "markdown",
   "metadata": {},
   "source": [
    "### Example in 2D\n",
    "\n",
    "We rely on the illustration p2 of the paper [1].\n",
    "\n",
    "[1] López-Lopera, A., Bachoc, F. and Roustant, O., 2022.\n",
    "    *High-dimensional additive Gaussian processes under monotonicity constraints.*\n",
    "    Advances in Neural Information Processing Systems, 35, pp.8041-8053."
   ]
  },
  {
   "cell_type": "markdown",
   "metadata": {},
   "source": [
    "### Step by step\n",
    "\n",
    "1) We start with a discretization of the domain."
   ]
  },
  {
   "cell_type": "code",
   "execution_count": 6,
   "metadata": {},
   "outputs": [
    {
     "name": "stderr",
     "output_type": "stream",
     "text": [
      "2023-08-21 11:23:21.022288: E external/xla/xla/stream_executor/cuda/cuda_driver.cc:268] failed call to cuInit: CUDA_ERROR_NO_DEVICE: no CUDA-capable device is detected\n",
      "No GPU/TPU found, falling back to CPU. (Set TF_CPP_MIN_LOG_LEVEL=0 and rerun for more info.)\n"
     ]
    }
   ],
   "source": [
    "from variables import isotropic_block  # helper function to create a block of variables\n",
    "\n",
    "block = isotropic_block('xy', (0, 1), 5)  # hypercube in [0, 1]^2 with 5 subdivisions in each direction."
   ]
  },
  {
   "cell_type": "markdown",
   "metadata": {},
   "source": [
    "2) We build a trivial partition that consists of a single block."
   ]
  },
  {
   "cell_type": "code",
   "execution_count": 7,
   "metadata": {},
   "outputs": [],
   "source": [
    "partition = VariablePartition([block])"
   ]
  },
  {
   "cell_type": "markdown",
   "metadata": {},
   "source": [
    "3) For the basis of functions, we rely on Hat functions thanks to their simplicity and their ability to be combined to form more complex functions."
   ]
  },
  {
   "cell_type": "code",
   "execution_count": 8,
   "metadata": {},
   "outputs": [],
   "source": [
    "basis = HatFunctions(max_value=1.0)"
   ]
  },
  {
   "cell_type": "markdown",
   "metadata": {},
   "source": [
    "4. We use the so-called Gaussian kernel, or RBF (that stands for \"Radial Basis Functions\") defined as:\n",
    "$$k(x,y)=\\exp{\\left(-\\frac{\\|x-y\\|^2_2}{l^2}\\right)}$$\n",
    "Note that this multivariate kernel is indeed a product of univariate kernels:\n",
    "$$k(x,y)=\\prod_{i=1}^d k(x_i,y_i)$$\n",
    "where $k(x_i,y_i)=\\exp{\\left(-\\frac{(x_i-y_i)^2}{l^2}\\right)}$ is the univariate kernel for the $i$-th dimension."
   ]
  },
  {
   "cell_type": "code",
   "execution_count": 9,
   "metadata": {},
   "outputs": [],
   "source": [
    "kernel = GaussianKernel(length_scale=1.)\n"
   ]
  },
  {
   "cell_type": "markdown",
   "metadata": {},
   "source": [
    "5. We consider a very simple Gaussian process without any constraints on the learned functions."
   ]
  },
  {
   "cell_type": "code",
   "execution_count": 10,
   "metadata": {},
   "outputs": [],
   "source": [
    "constraints = NoConstraints()"
   ]
  },
  {
   "cell_type": "markdown",
   "metadata": {},
   "source": [
    "6. We are now ready to go! The model is fully defined."
   ]
  },
  {
   "cell_type": "code",
   "execution_count": 11,
   "metadata": {},
   "outputs": [],
   "source": [
    "monoblock_gp = MaxModeAdditiveGaussianProcess(partition, basis, kernel, constraints)"
   ]
  },
  {
   "cell_type": "markdown",
   "metadata": {},
   "source": [
    "We illustrate how to train it on a simple example below."
   ]
  },
  {
   "cell_type": "code",
   "execution_count": 12,
   "metadata": {},
   "outputs": [
    {
     "data": {
      "text/plain": [
       "Array([0., 1., 2., 2., 2.], dtype=float64)"
      ]
     },
     "execution_count": 12,
     "metadata": {},
     "output_type": "execute_result"
    }
   ],
   "source": [
    "x_train = jnp.array([[0.5, 0.], [0.5, 0.5], [0.5, 1.], [0., 0.5], [1., 0.5]])\n",
    "\n",
    "def y_ground_truth(x):\n",
    "  return 4 * (x[:,0] - 0.5)**2 + 2 * x[:,1]\n",
    "\n",
    "y_train = y_ground_truth(x_train)\n",
    "y_train"
   ]
  },
  {
   "cell_type": "markdown",
   "metadata": {},
   "source": [
    "We fit the model:"
   ]
  },
  {
   "cell_type": "code",
   "execution_count": 13,
   "metadata": {},
   "outputs": [],
   "source": [
    "additive_fun = monoblock_gp.fit(x_train, y_train)"
   ]
  },
  {
   "cell_type": "markdown",
   "metadata": {},
   "source": [
    "We used the additive GP to predict labels on new entries."
   ]
  },
  {
   "cell_type": "code",
   "execution_count": 14,
   "metadata": {},
   "outputs": [
    {
     "data": {
      "text/plain": [
       "StructuredPrediction(y_pred=Array([8.90676110e-04, 1.04011452e+00, 1.99582057e+00, 1.97832722e+00,\n",
       "       1.97832722e+00], dtype=float64), y_pred_per_block=[Array([8.90676110e-04, 1.04011452e+00, 1.99582057e+00, 1.97832722e+00,\n",
       "       1.97832722e+00], dtype=float64)])"
      ]
     },
     "execution_count": 14,
     "metadata": {},
     "output_type": "execute_result"
    }
   ],
   "source": [
    "structured_pred = additive_fun.predict(x_train)\n",
    "structured_pred"
   ]
  },
  {
   "cell_type": "markdown",
   "metadata": {},
   "source": [
    "We are interested on the final prediction to comptue the metrics. The `y_pred_per_block` fields is here for debugging purpose."
   ]
  },
  {
   "cell_type": "code",
   "execution_count": 15,
   "metadata": {},
   "outputs": [],
   "source": [
    "y_pred = structured_pred.y_pred"
   ]
  },
  {
   "cell_type": "markdown",
   "metadata": {},
   "source": [
    "Let's compute some metrics!"
   ]
  },
  {
   "cell_type": "code",
   "execution_count": 16,
   "metadata": {},
   "outputs": [
    {
     "name": "stdout",
     "output_type": "stream",
     "text": [
      "Mean absolute error: 0.02\n",
      "Mean relative error: 0.01%\n",
      "Explained variance score: 99.92%\n"
     ]
    }
   ],
   "source": [
    "# mean squared error\n",
    "abs_err = jnp.abs(y_pred - y_train)\n",
    "rel_err = jnp.where(y_train == 0, abs_err, abs_err / jnp.abs(y_train))\n",
    "evs = 1 - jnp.var(y_train - y_pred) / jnp.var(y_train)\n",
    "print(f\"Mean absolute error: {jnp.mean(abs_err):.2f}\")\n",
    "print(f\"Mean relative error: {jnp.mean(rel_err):.2f}%\")\n",
    "print(f\"Explained variance score: {evs*100:.2f}%\")"
   ]
  },
  {
   "cell_type": "markdown",
   "metadata": {},
   "source": [
    "Element-wise predictions:"
   ]
  },
  {
   "cell_type": "code",
   "execution_count": 17,
   "metadata": {},
   "outputs": [
    {
     "data": {
      "text/html": [
       "<div>\n",
       "<style scoped>\n",
       "    .dataframe tbody tr th:only-of-type {\n",
       "        vertical-align: middle;\n",
       "    }\n",
       "\n",
       "    .dataframe tbody tr th {\n",
       "        vertical-align: top;\n",
       "    }\n",
       "\n",
       "    .dataframe thead th {\n",
       "        text-align: right;\n",
       "    }\n",
       "</style>\n",
       "<table border=\"1\" class=\"dataframe\">\n",
       "  <thead>\n",
       "    <tr style=\"text-align: right;\">\n",
       "      <th></th>\n",
       "      <th>0</th>\n",
       "      <th>1</th>\n",
       "      <th>2</th>\n",
       "      <th>3</th>\n",
       "      <th>4</th>\n",
       "    </tr>\n",
       "  </thead>\n",
       "  <tbody>\n",
       "    <tr>\n",
       "      <th>absolute_error</th>\n",
       "      <td>0.000891</td>\n",
       "      <td>0.040115</td>\n",
       "      <td>0.004179</td>\n",
       "      <td>0.021673</td>\n",
       "      <td>0.021673</td>\n",
       "    </tr>\n",
       "    <tr>\n",
       "      <th>relative_error</th>\n",
       "      <td>0.000891</td>\n",
       "      <td>0.040115</td>\n",
       "      <td>0.002090</td>\n",
       "      <td>0.010836</td>\n",
       "      <td>0.010836</td>\n",
       "    </tr>\n",
       "  </tbody>\n",
       "</table>\n",
       "</div>"
      ],
      "text/plain": [
       "                       0         1         2         3         4\n",
       "absolute_error  0.000891  0.040115  0.004179  0.021673  0.021673\n",
       "relative_error  0.000891  0.040115  0.002090  0.010836  0.010836"
      ]
     },
     "execution_count": 17,
     "metadata": {},
     "output_type": "execute_result"
    }
   ],
   "source": [
    "import pandas as pd\n",
    "df = pd.DataFrame({'absolute_error': abs_err, 'relative_error': rel_err}).T\n",
    "df"
   ]
  },
  {
   "cell_type": "code",
   "execution_count": null,
   "metadata": {},
   "outputs": [],
   "source": []
  }
 ],
 "metadata": {
  "kernelspec": {
   "display_name": "p39test",
   "language": "python",
   "name": "python3"
  },
  "language_info": {
   "codemirror_mode": {
    "name": "ipython",
    "version": 3
   },
   "file_extension": ".py",
   "mimetype": "text/x-python",
   "name": "python",
   "nbconvert_exporter": "python",
   "pygments_lexer": "ipython3",
   "version": "3.9.16"
  },
  "orig_nbformat": 4
 },
 "nbformat": 4,
 "nbformat_minor": 2
}
